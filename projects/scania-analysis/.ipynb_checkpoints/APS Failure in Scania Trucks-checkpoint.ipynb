{
 "cells": [
  {
   "cell_type": "markdown",
   "metadata": {},
   "source": [
    "# APS Failure in SCANIA Truck Dataset"
   ]
  },
  {
   "cell_type": "markdown",
   "metadata": {},
   "source": [
    "<p>The data set consists of values collected from several components of heavy Scania trucks from their daily usage. The sample data collected has been done by several experts and the component names are anonymized for proprietary reasons. The vehicles such as heavy Scania trucks that are operated on daily basis are key contributors in transportation, construction and many such industrial sectors. Therefore, it is of high priority that these trucks are maintained properly in order to avoid sudden breakdown that can amount to significant loss.</p>\n",
    "\n",
    "<p>The key component of heavy Scania trucks that is in focus is the Air pressure system (APS) that is utilized in variety of tasks such as braking and shifting of gears. This makes it a crucial component and an ideal case for predictive maintenance where failures should be predicted before they occur. Data provided consists of training and test instances. The training set has 60000 samples and the testing set consists of 16000 samples with 170 feature columns.</p>\n",
    "\n",
    "\n",
    "<p>Instances in training and testing set contains a class label positive or negative and this enables us to model this problem using a supervised classification approach. The positive labelled instances denote the failure due to APS component while the negative labelled instances denote the trucks with failure due to components other than APS. The data set has a lot missing values and contains numerical as well as histogram bins of temperature values.</p>\n",
    "\n",
    "<p>Predictive model has to be built to judge if a vehicle faces failure imminently due to APS component. A cost function was given to quantify the misclassification rate of the predictive model.</p>\n",
    "\n",
    "The cost function is described as follows:"
   ]
  },
  {
   "cell_type": "markdown",
   "metadata": {},
   "source": [
    "\\begin{equation*}\n",
    "    Total Misclassification Cost=10*FP+500*FN\n",
    "\\end{equation*}"
   ]
  },
  {
   "cell_type": "markdown",
   "metadata": {},
   "source": [
    "Where \n",
    "<ul>\n",
    "    <li>False positive($FP$)  --Machine failed due other components but misclassified as failure due to APS</li>\n",
    "    <li>False negative($FN$) -- Machine failed due to APS system but was misclassified as failure due to components other than APS</li>\n",
    "<ul>\n"
   ]
  },
  {
   "cell_type": "code",
   "execution_count": 150,
   "metadata": {
    "ExecuteTime": {
     "end_time": "2019-05-12T17:23:01.176603Z",
     "start_time": "2019-05-12T17:23:01.083128Z"
    }
   },
   "outputs": [],
   "source": [
    "# pandas and numpy for data manipulation\n",
    "import pandas as pd\n",
    "import numpy as np\n",
    "\n",
    "# matplotlib and seaborn for plotting\n",
    "# Library for plotting the missing values in the dataset\n",
    "import missingno as msno\n",
    "import matplotlib.pyplot as plt\n",
    "%matplotlib inline  \n",
    "import seaborn as sns\n",
    "import scikitplot as skplt\n",
    "\n",
    "plt.style.use('fivethirtyeight')\n",
    "\n",
    "#Image for displaying disk images\n",
    "from IPython.display import Image\n",
    "\n",
    "#set the random seed\n",
    "np.random.seed(1234)\n",
    "# Suppress warnings from pandas\n",
    "import warnings\n",
    "warnings.filterwarnings('ignore')"
   ]
  },
  {
   "cell_type": "code",
   "execution_count": 2,
   "metadata": {
    "ExecuteTime": {
     "end_time": "2019-05-12T14:52:04.650464Z",
     "start_time": "2019-05-12T14:52:04.547151Z"
    }
   },
   "outputs": [],
   "source": [
    "# Importing the necessary libraries from sklearn and yellowbrick\n",
    "from sklearn import metrics\n",
    "from sklearn import model_selection\n",
    "from sklearn.ensemble import RandomForestClassifier\n",
    "from sklearn.model_selection import RandomizedSearchCV,train_test_split\n",
    "from sklearn.metrics import matthews_corrcoef\n",
    "from pprint import pprint\n",
    "from sklearn.preprocessing import StandardScaler\n",
    "from sklearn.decomposition import PCA\n",
    "from sklearn.metrics import roc_auc_score, roc_curve, auc\n",
    "from sklearn.metrics import precision_recall_curve, average_precision_score\n",
    "from yellowbrick.classifier import ROCAUC"
   ]
  },
  {
   "cell_type": "code",
   "execution_count": 3,
   "metadata": {
    "ExecuteTime": {
     "end_time": "2019-05-12T14:52:11.671119Z",
     "start_time": "2019-05-12T14:52:04.654875Z"
    }
   },
   "outputs": [],
   "source": [
    "#Read in the Data Train and Test Set.\n",
    "train_df = pd.read_csv(\"aps_failure_training_set.csv\")\n",
    "test_df = pd.read_csv(\"aps_failure_test_set.csv\")"
   ]
  },
  {
   "cell_type": "code",
   "execution_count": 4,
   "metadata": {
    "ExecuteTime": {
     "end_time": "2019-05-12T14:52:11.782856Z",
     "start_time": "2019-05-12T14:52:11.673423Z"
    }
   },
   "outputs": [
    {
     "data": {
      "text/html": [
       "<div>\n",
       "<style scoped>\n",
       "    .dataframe tbody tr th:only-of-type {\n",
       "        vertical-align: middle;\n",
       "    }\n",
       "\n",
       "    .dataframe tbody tr th {\n",
       "        vertical-align: top;\n",
       "    }\n",
       "\n",
       "    .dataframe thead th {\n",
       "        text-align: right;\n",
       "    }\n",
       "</style>\n",
       "<table border=\"1\" class=\"dataframe\">\n",
       "  <thead>\n",
       "    <tr style=\"text-align: right;\">\n",
       "      <th></th>\n",
       "      <th>class</th>\n",
       "      <th>aa_000</th>\n",
       "      <th>ab_000</th>\n",
       "      <th>ac_000</th>\n",
       "      <th>ad_000</th>\n",
       "      <th>ae_000</th>\n",
       "      <th>af_000</th>\n",
       "      <th>ag_000</th>\n",
       "      <th>ag_001</th>\n",
       "      <th>ag_002</th>\n",
       "      <th>...</th>\n",
       "      <th>ee_002</th>\n",
       "      <th>ee_003</th>\n",
       "      <th>ee_004</th>\n",
       "      <th>ee_005</th>\n",
       "      <th>ee_006</th>\n",
       "      <th>ee_007</th>\n",
       "      <th>ee_008</th>\n",
       "      <th>ee_009</th>\n",
       "      <th>ef_000</th>\n",
       "      <th>eg_000</th>\n",
       "    </tr>\n",
       "  </thead>\n",
       "  <tbody>\n",
       "    <tr>\n",
       "      <th>0</th>\n",
       "      <td>neg</td>\n",
       "      <td>76698</td>\n",
       "      <td>na</td>\n",
       "      <td>2130706438</td>\n",
       "      <td>280</td>\n",
       "      <td>0</td>\n",
       "      <td>0</td>\n",
       "      <td>0</td>\n",
       "      <td>0</td>\n",
       "      <td>0</td>\n",
       "      <td>...</td>\n",
       "      <td>1240520</td>\n",
       "      <td>493384</td>\n",
       "      <td>721044</td>\n",
       "      <td>469792</td>\n",
       "      <td>339156</td>\n",
       "      <td>157956</td>\n",
       "      <td>73224</td>\n",
       "      <td>0</td>\n",
       "      <td>0</td>\n",
       "      <td>0</td>\n",
       "    </tr>\n",
       "    <tr>\n",
       "      <th>1</th>\n",
       "      <td>neg</td>\n",
       "      <td>33058</td>\n",
       "      <td>na</td>\n",
       "      <td>0</td>\n",
       "      <td>na</td>\n",
       "      <td>0</td>\n",
       "      <td>0</td>\n",
       "      <td>0</td>\n",
       "      <td>0</td>\n",
       "      <td>0</td>\n",
       "      <td>...</td>\n",
       "      <td>421400</td>\n",
       "      <td>178064</td>\n",
       "      <td>293306</td>\n",
       "      <td>245416</td>\n",
       "      <td>133654</td>\n",
       "      <td>81140</td>\n",
       "      <td>97576</td>\n",
       "      <td>1500</td>\n",
       "      <td>0</td>\n",
       "      <td>0</td>\n",
       "    </tr>\n",
       "    <tr>\n",
       "      <th>2</th>\n",
       "      <td>neg</td>\n",
       "      <td>41040</td>\n",
       "      <td>na</td>\n",
       "      <td>228</td>\n",
       "      <td>100</td>\n",
       "      <td>0</td>\n",
       "      <td>0</td>\n",
       "      <td>0</td>\n",
       "      <td>0</td>\n",
       "      <td>0</td>\n",
       "      <td>...</td>\n",
       "      <td>277378</td>\n",
       "      <td>159812</td>\n",
       "      <td>423992</td>\n",
       "      <td>409564</td>\n",
       "      <td>320746</td>\n",
       "      <td>158022</td>\n",
       "      <td>95128</td>\n",
       "      <td>514</td>\n",
       "      <td>0</td>\n",
       "      <td>0</td>\n",
       "    </tr>\n",
       "    <tr>\n",
       "      <th>3</th>\n",
       "      <td>neg</td>\n",
       "      <td>12</td>\n",
       "      <td>0</td>\n",
       "      <td>70</td>\n",
       "      <td>66</td>\n",
       "      <td>0</td>\n",
       "      <td>10</td>\n",
       "      <td>0</td>\n",
       "      <td>0</td>\n",
       "      <td>0</td>\n",
       "      <td>...</td>\n",
       "      <td>240</td>\n",
       "      <td>46</td>\n",
       "      <td>58</td>\n",
       "      <td>44</td>\n",
       "      <td>10</td>\n",
       "      <td>0</td>\n",
       "      <td>0</td>\n",
       "      <td>0</td>\n",
       "      <td>4</td>\n",
       "      <td>32</td>\n",
       "    </tr>\n",
       "    <tr>\n",
       "      <th>4</th>\n",
       "      <td>neg</td>\n",
       "      <td>60874</td>\n",
       "      <td>na</td>\n",
       "      <td>1368</td>\n",
       "      <td>458</td>\n",
       "      <td>0</td>\n",
       "      <td>0</td>\n",
       "      <td>0</td>\n",
       "      <td>0</td>\n",
       "      <td>0</td>\n",
       "      <td>...</td>\n",
       "      <td>622012</td>\n",
       "      <td>229790</td>\n",
       "      <td>405298</td>\n",
       "      <td>347188</td>\n",
       "      <td>286954</td>\n",
       "      <td>311560</td>\n",
       "      <td>433954</td>\n",
       "      <td>1218</td>\n",
       "      <td>0</td>\n",
       "      <td>0</td>\n",
       "    </tr>\n",
       "  </tbody>\n",
       "</table>\n",
       "<p>5 rows × 171 columns</p>\n",
       "</div>"
      ],
      "text/plain": [
       "  class  aa_000 ab_000      ac_000 ad_000 ae_000 af_000 ag_000 ag_001 ag_002  \\\n",
       "0   neg   76698     na  2130706438    280      0      0      0      0      0   \n",
       "1   neg   33058     na           0     na      0      0      0      0      0   \n",
       "2   neg   41040     na         228    100      0      0      0      0      0   \n",
       "3   neg      12      0          70     66      0     10      0      0      0   \n",
       "4   neg   60874     na        1368    458      0      0      0      0      0   \n",
       "\n",
       "   ...     ee_002  ee_003  ee_004  ee_005  ee_006  ee_007  ee_008 ee_009  \\\n",
       "0  ...    1240520  493384  721044  469792  339156  157956   73224      0   \n",
       "1  ...     421400  178064  293306  245416  133654   81140   97576   1500   \n",
       "2  ...     277378  159812  423992  409564  320746  158022   95128    514   \n",
       "3  ...        240      46      58      44      10       0       0      0   \n",
       "4  ...     622012  229790  405298  347188  286954  311560  433954   1218   \n",
       "\n",
       "  ef_000 eg_000  \n",
       "0      0      0  \n",
       "1      0      0  \n",
       "2      0      0  \n",
       "3      4     32  \n",
       "4      0      0  \n",
       "\n",
       "[5 rows x 171 columns]"
      ]
     },
     "execution_count": 4,
     "metadata": {},
     "output_type": "execute_result"
    }
   ],
   "source": [
    "train_df.head()"
   ]
  },
  {
   "cell_type": "markdown",
   "metadata": {},
   "source": [
    "### We can infer from the initial description of training dataset that there are a lot of missing values and are inaccurately represented. We shall replace the na values with np.nan across both the datasets"
   ]
  },
  {
   "cell_type": "code",
   "execution_count": 5,
   "metadata": {
    "ExecuteTime": {
     "end_time": "2019-05-12T14:52:12.846230Z",
     "start_time": "2019-05-12T14:52:11.786678Z"
    }
   },
   "outputs": [],
   "source": [
    "train_df.replace('na',np.nan,inplace = True)\n",
    "test_df.replace('na',np.nan,inplace = True)"
   ]
  },
  {
   "cell_type": "code",
   "execution_count": 6,
   "metadata": {
    "ExecuteTime": {
     "end_time": "2019-05-12T14:52:13.365440Z",
     "start_time": "2019-05-12T14:52:12.849665Z"
    }
   },
   "outputs": [
    {
     "data": {
      "image/png": "[encoded data removed]",
      "text/plain": [
       "<matplotlib.figure.Figure at 0x117981588>"
      ]
     },
     "metadata": {},
     "output_type": "display_data"
    }
   ],
   "source": [
    "# Let's the visualize the target variable distribution across the training dataset\n",
    "#Define the figure and axis \n",
    "fig, ((ax1)) =  plt.subplots(nrows=1, ncols=1) \n",
    "fig.set_size_inches(6,6)\n",
    "\n",
    "# plot a simple countplot to get the target variable distribution\n",
    "ax1=sns.countplot(x=train_df[\"class\"])\n",
    "ax1.tick_params(labelsize=18)\n",
    "ax1.set_xlabel('Training Set Class Balance',fontsize=20)\n",
    "ax1.set_ylabel('Count of Class labels',fontsize=20)\n",
    "plt.savefig('images/trainClassbalance.png', transparent=False, dpi=80, bbox_inches=\"tight\");"
   ]
  },
  {
   "cell_type": "markdown",
   "metadata": {},
   "source": [
    "### We can the training dataset contains highly imbalanced target variable distribution with 98% values belonging to the negative class and just 2% of values belonging to the positive class"
   ]
  },
  {
   "cell_type": "code",
   "execution_count": 7,
   "metadata": {
    "ExecuteTime": {
     "end_time": "2019-05-12T14:52:13.483877Z",
     "start_time": "2019-05-12T14:52:13.368703Z"
    }
   },
   "outputs": [],
   "source": [
    "# The target variable is labelled as 'class'. We will pop it out of the dataframe and store in a series\n",
    "y = train_df.pop(\"class\")\n",
    "y_test = test_df.pop(\"class\")\n"
   ]
  },
  {
   "cell_type": "code",
   "execution_count": 8,
   "metadata": {
    "ExecuteTime": {
     "end_time": "2019-05-12T14:52:13.729113Z",
     "start_time": "2019-05-12T14:52:13.497186Z"
    }
   },
   "outputs": [],
   "source": [
    "X = train_df.copy()\n",
    "X_test = test_df.copy()"
   ]
  },
  {
   "cell_type": "markdown",
   "metadata": {},
   "source": [
    "### The class lables are being denoted as 'neg' and 'pos' in the original dataset. We shall convert to values 0 and 1 for the purpose of binary classification\n",
    "\n",
    "### The class '0' represents trucks with failures for components not related to the APS and class '1' represents trucks with component failures for a specific component of the APS system."
   ]
  },
  {
   "cell_type": "code",
   "execution_count": 9,
   "metadata": {
    "ExecuteTime": {
     "end_time": "2019-05-12T14:52:13.843707Z",
     "start_time": "2019-05-12T14:52:13.732593Z"
    }
   },
   "outputs": [],
   "source": [
    "y.replace('neg',0,inplace=True)\n",
    "y.replace('pos',1,inplace=True)\n",
    "\n",
    "y_test.replace('neg',0,inplace=True)\n",
    "y_test.replace('pos',1,inplace=True)"
   ]
  },
  {
   "cell_type": "markdown",
   "metadata": {},
   "source": [
    "<img src=\"images/ttsplitcv.png\" />"
   ]
  },
  {
   "cell_type": "markdown",
   "metadata": {},
   "source": [
    "<p> The training dataset will be split further into training and validation set. As we saw earlier that the dataset is highly imbalanced, we will be trying some of the sampling techniques to generate synthetic samples for the modle to train with a balanced target variable distribution.<p>\n",
    "\n",
    "\n",
    "<a href =https://www.marcoaltini.com/blog/dealing-with-imbalanced-data-undersampling-oversampling-and-proper-cross-validation>Marcoaltini's Blog page</a><p> The author explains the possiblity of data leakage. Data leakage can occur during cross validation procedures when oversampling the data first and then splitting in to train and validation set. </p>"
   ]
  },
  {
   "cell_type": "markdown",
   "metadata": {},
   "source": [
    "<img src=\"images/cvsmote.jpg\" />"
   ]
  },
  {
   "cell_type": "markdown",
   "metadata": {},
   "source": [
    "<h3> In order to avoid the data leakage possibility and also have a unbiased estimation of trained model on a validation set before getting the misclassfication cost on the test, we shall split the training dataset into train and validation set by keeping the target distribution similar using the stratified split</h3>"
   ]
  },
  {
   "cell_type": "code",
   "execution_count": 10,
   "metadata": {
    "ExecuteTime": {
     "end_time": "2019-05-12T14:52:14.182464Z",
     "start_time": "2019-05-12T14:52:13.846447Z"
    }
   },
   "outputs": [],
   "source": [
    "X_train, X_val, y_train, y_val = train_test_split(\n",
    "    X, y, test_size=16000,stratify = y ,random_state=42)"
   ]
  },
  {
   "cell_type": "markdown",
   "metadata": {},
   "source": [
    "### Missing Values - Exploration "
   ]
  },
  {
   "cell_type": "code",
   "execution_count": 11,
   "metadata": {
    "ExecuteTime": {
     "end_time": "2019-05-12T14:52:14.190167Z",
     "start_time": "2019-05-12T14:52:14.185026Z"
    }
   },
   "outputs": [],
   "source": [
    "#Lets get the shape and column names of the train data\n",
    "rows,cols =X_train.shape\n",
    "column_names = X_train.columns.values.tolist()"
   ]
  },
  {
   "cell_type": "code",
   "execution_count": 12,
   "metadata": {
    "ExecuteTime": {
     "end_time": "2019-05-12T14:52:14.956375Z",
     "start_time": "2019-05-12T14:52:14.192880Z"
    }
   },
   "outputs": [
    {
     "data": {
      "text/plain": [
       "aa_000        0\n",
       "ab_000    33949\n",
       "ac_000     2444\n",
       "ad_000    10899\n",
       "ae_000     1820\n",
       "dtype: int64"
      ]
     },
     "execution_count": 12,
     "metadata": {},
     "output_type": "execute_result"
    }
   ],
   "source": [
    "# We can from previous line of code that the data appears to have a lot of missing values\n",
    "# Lets get the missing values across the entire dataset - rows and cols\n",
    "nan_count = X_train.isnull().sum()\n",
    "nan_count.head(5)"
   ]
  },
  {
   "cell_type": "code",
   "execution_count": 13,
   "metadata": {
    "ExecuteTime": {
     "end_time": "2019-05-12T14:52:14.975767Z",
     "start_time": "2019-05-12T14:52:14.961787Z"
    }
   },
   "outputs": [
    {
     "data": {
      "text/plain": [
       "array([0.        , 0.77156818, 0.05554545, 0.24770455, 0.04136364,\n",
       "       0.04136364, 0.01065909, 0.01065909, 0.01065909, 0.01065909,\n",
       "       0.01065909, 0.01065909, 0.01065909, 0.01065909, 0.01065909,\n",
       "       0.01065909, 0.01065909, 0.01045455, 0.01045455, 0.07329545,\n",
       "       0.01059091, 0.01045455, 0.01059091, 0.00988636, 0.01059091,\n",
       "       0.00988636, 0.04529545, 0.01045455, 0.01045455, 0.01045455,\n",
       "       0.04138636, 0.04140909, 0.01063636, 0.01063636, 0.01063636,\n",
       "       0.01063636, 0.01063636, 0.01063636, 0.01063636, 0.01063636,\n",
       "       0.01063636, 0.01063636, 0.01063636, 0.01063636, 0.01063636,\n",
       "       0.01063636, 0.01063636, 0.01063636, 0.01063636, 0.01063636,\n",
       "       0.01063636, 0.01063636, 0.01095455, 0.01095455, 0.01095455,\n",
       "       0.01095455, 0.01095455, 0.01095455, 0.01095455, 0.01095455,\n",
       "       0.01095455, 0.01095455, 0.01065909, 0.04531818, 0.04534091,\n",
       "       0.04138636, 0.04136364, 0.01059091, 0.01059091, 0.00988636,\n",
       "       0.00988636, 0.38429545, 0.45495455, 0.66109091, 0.73536364,\n",
       "       0.77397727, 0.7965    , 0.81311364, 0.82159091, 0.01197727,\n",
       "       0.00263636, 0.01138636, 0.01138636, 0.05422727, 0.00756818,\n",
       "       0.04529545, 0.07245455, 0.01197727, 0.05418182, 0.01118182,\n",
       "       0.04140909, 0.24770455, 0.24770455, 0.24770455, 0.00577273,\n",
       "       0.00577273, 0.00577273, 0.15872727, 0.16447727, 0.01093182,\n",
       "       0.01093182, 0.01093182, 0.01093182, 0.01093182, 0.01093182,\n",
       "       0.01093182, 0.01093182, 0.01093182, 0.01093182, 0.24770455,\n",
       "       0.04529545, 0.01138636, 0.77156818, 0.01061364, 0.01061364,\n",
       "       0.01061364, 0.01061364, 0.01061364, 0.01061364, 0.01061364,\n",
       "       0.01061364, 0.01061364, 0.01061364, 0.22977273, 0.22977273,\n",
       "       0.22977273, 0.22977273, 0.22977273, 0.22977273, 0.22977273,\n",
       "       0.22977273, 0.22977273, 0.04140909, 0.04531818, 0.06697727,\n",
       "       0.06697727, 0.06695455, 0.06693182, 0.06695455, 0.06695455,\n",
       "       0.06695455, 0.06697727, 0.01138636, 0.04529545, 0.04531818,\n",
       "       0.04531818, 0.04534091, 0.04534091, 0.04534091, 0.04534091,\n",
       "       0.04534091, 0.04529545, 0.04529545, 0.04529545, 0.04529545,\n",
       "       0.06695455, 0.17034091, 0.15872727, 0.01063636, 0.01063636,\n",
       "       0.01063636, 0.01063636, 0.01063636, 0.01063636, 0.01063636,\n",
       "       0.01063636, 0.01063636, 0.01063636, 0.04529545, 0.04529545])"
      ]
     },
     "execution_count": 13,
     "metadata": {},
     "output_type": "execute_result"
    }
   ],
   "source": [
    "# It appears that almost all columns have some amount of missing values\n",
    "# Lets get the average number of missing values across all the columns and rows\n",
    "# It will let us know the percentage of missing values across the columns\n",
    "nan_values = nan_count.values\n",
    "avg_nan_per_col = nan_values/rows\n",
    "avg_nan_per_col"
   ]
  },
  {
   "cell_type": "code",
   "execution_count": 14,
   "metadata": {
    "ExecuteTime": {
     "end_time": "2019-05-12T14:52:14.988107Z",
     "start_time": "2019-05-12T14:52:14.978712Z"
    }
   },
   "outputs": [
    {
     "data": {
      "text/plain": [
       "ab_000    33949\n",
       "ad_000    10899\n",
       "bk_000    16909\n",
       "bl_000    20018\n",
       "bm_000    29088\n",
       "bn_000    32356\n",
       "bo_000    34055\n",
       "bp_000    35046\n",
       "bq_000    35777\n",
       "br_000    36150\n",
       "cf_000    10899\n",
       "cg_000    10899\n",
       "ch_000    10899\n",
       "cl_000     6984\n",
       "cm_000     7237\n",
       "co_000    10899\n",
       "cr_000    33949\n",
       "ct_000    10110\n",
       "cu_000    10110\n",
       "cv_000    10110\n",
       "cx_000    10110\n",
       "cy_000    10110\n",
       "cz_000    10110\n",
       "da_000    10110\n",
       "db_000    10110\n",
       "dc_000    10110\n",
       "ec_00      7495\n",
       "ed_000     6984\n",
       "dtype: int64"
      ]
     },
     "execution_count": 14,
     "metadata": {},
     "output_type": "execute_result"
    }
   ],
   "source": [
    "'''\n",
    "Typical tolerance level of missing values beyond which any imputation will lead to skewed response\n",
    "are between 10 -15%\n",
    "10% of missing values in this dataset of 60000 leads to columns with atleast 6000 missing values\n",
    "\n",
    "'''\n",
    "nan_count[nan_count.values > 6000]"
   ]
  },
  {
   "cell_type": "code",
   "execution_count": 15,
   "metadata": {
    "ExecuteTime": {
     "end_time": "2019-05-12T14:52:14.998861Z",
     "start_time": "2019-05-12T14:52:14.991724Z"
    }
   },
   "outputs": [
    {
     "name": "stdout",
     "output_type": "stream",
     "text": [
      " The number of columns with more than 10% missing values is 28\n"
     ]
    }
   ],
   "source": [
    "# Let's get the number of columns that have more than 10% percent missing values\n",
    "print( \" The number of columns with more than 10% missing values is {}\".format(len(nan_count[nan_count.values > 6000])))"
   ]
  },
  {
   "cell_type": "code",
   "execution_count": 16,
   "metadata": {
    "ExecuteTime": {
     "end_time": "2019-05-12T14:52:17.779047Z",
     "start_time": "2019-05-12T14:52:15.008398Z"
    }
   },
   "outputs": [
    {
     "data": {
      "text/plain": [
       "<matplotlib.figure.Figure at 0x1174b7828>"
      ]
     },
     "metadata": {},
     "output_type": "display_data"
    },
    {
     "data": {
      "image/png": "[encoded data removed]",
      "text/plain": [
       "<matplotlib.figure.Figure at 0x1175e43c8>"
      ]
     },
     "metadata": {},
     "output_type": "display_data"
    }
   ],
   "source": [
    "# Let's the visulaize these 28 columns with more than 10% missing values\n",
    "\n",
    "# Missingno library is used. If library not present - pls run pip install missingno\n",
    "\n",
    "tenpercentnan =nan_count[nan_count.values > 6000]\n",
    "fig = plt.figure(figsize= (16,16))\n",
    "ax1 =msno.bar(X_train[tenpercentnan.index])\n",
    "ax1.tick_params(labelsize=18)\n",
    "ax1.set_xlabel('Feature Columns with more than 10% missing values',fontsize=20)\n",
    "ax1.set_ylabel('Percentage of missing values',fontsize=20)\n",
    "plt.savefig('images/TrainingSetMissingvaluecolumns.png', transparent=False, dpi=80, bbox_inches=\"tight\") \n"
   ]
  },
  {
   "cell_type": "code",
   "execution_count": 17,
   "metadata": {
    "ExecuteTime": {
     "end_time": "2019-05-12T14:52:17.806473Z",
     "start_time": "2019-05-12T14:52:17.791635Z"
    }
   },
   "outputs": [
    {
     "name": "stdout",
     "output_type": "stream",
     "text": [
      "28\n"
     ]
    }
   ],
   "source": [
    "# let's crosscheck that we are indeed removing the 28 columns that have more than 10% missing values\n",
    "count =0\n",
    "for col in range(cols):\n",
    "    if nan_count[col] > 6000:\n",
    "        count +=1\n",
    "\n",
    "print(count)"
   ]
  },
  {
   "cell_type": "code",
   "execution_count": 18,
   "metadata": {
    "ExecuteTime": {
     "end_time": "2019-05-12T14:52:17.816780Z",
     "start_time": "2019-05-12T14:52:17.809039Z"
    }
   },
   "outputs": [
    {
     "data": {
      "text/plain": [
       "Index(['ab_000', 'ad_000', 'bk_000', 'bl_000', 'bm_000', 'bn_000', 'bo_000',\n",
       "       'bp_000', 'bq_000', 'br_000', 'cf_000', 'cg_000', 'ch_000', 'cl_000',\n",
       "       'cm_000', 'co_000', 'cr_000', 'ct_000', 'cu_000', 'cv_000', 'cx_000',\n",
       "       'cy_000', 'cz_000', 'da_000', 'db_000', 'dc_000', 'ec_00', 'ed_000'],\n",
       "      dtype='object')"
      ]
     },
     "execution_count": 18,
     "metadata": {},
     "output_type": "execute_result"
    }
   ],
   "source": [
    "tenpercentnan.index"
   ]
  },
  {
   "cell_type": "markdown",
   "metadata": {},
   "source": [
    "### Let's the drop the columns with more than 10% missing values across the train, validation and test sets"
   ]
  },
  {
   "cell_type": "code",
   "execution_count": 19,
   "metadata": {
    "ExecuteTime": {
     "end_time": "2019-05-12T14:52:18.359997Z",
     "start_time": "2019-05-12T14:52:17.819385Z"
    }
   },
   "outputs": [
    {
     "name": "stdout",
     "output_type": "stream",
     "text": [
      "The shape of new training dataset is (44000, 142)\n"
     ]
    }
   ],
   "source": [
    "# Get the index from nan_count with more than 6000 values and make an inplace drop on the training set\n",
    "X_train.drop(X_train[nan_count[nan_count.values > 6000].index],1,inplace=True)\n",
    "\n",
    "# Let's check the shape of the training dataset\n",
    "print(\"The shape of new training dataset is {}\".format(X_train.shape))\n"
   ]
  },
  {
   "cell_type": "code",
   "execution_count": 20,
   "metadata": {
    "ExecuteTime": {
     "end_time": "2019-05-12T14:52:18.525909Z",
     "start_time": "2019-05-12T14:52:18.363644Z"
    }
   },
   "outputs": [
    {
     "name": "stdout",
     "output_type": "stream",
     "text": [
      "The shape of new training dataset is (16000, 142)\n"
     ]
    }
   ],
   "source": [
    "# Get the index from nan_count with more than 6000 values and make an inplace drop on the validation set\n",
    "X_val.drop(X_val[nan_count[nan_count.values > 6000].index],1,inplace=True)\n",
    "\n",
    "# Let's check the shape of the validation dataset\n",
    "print(\"The shape of new training dataset is {}\".format(X_val.shape))\n"
   ]
  },
  {
   "cell_type": "code",
   "execution_count": 21,
   "metadata": {
    "ExecuteTime": {
     "end_time": "2019-05-12T14:52:18.633661Z",
     "start_time": "2019-05-12T14:52:18.529257Z"
    }
   },
   "outputs": [
    {
     "name": "stdout",
     "output_type": "stream",
     "text": [
      "The shape of new training dataset is (16000, 142)\n"
     ]
    }
   ],
   "source": [
    "# Get the index from nan_count with more than 6000 values and make an inplace drop on the testing set\n",
    "X_test.drop(X_test[nan_count[nan_count.values > 6000].index],1,inplace=True)\n",
    "\n",
    "# Let's check the shape of the Test dataset\n",
    "print(\"The shape of new training dataset is {}\".format(X_test.shape))"
   ]
  },
  {
   "cell_type": "code",
   "execution_count": 22,
   "metadata": {
    "ExecuteTime": {
     "end_time": "2019-05-12T14:53:04.020819Z",
     "start_time": "2019-05-12T14:52:18.639889Z"
    }
   },
   "outputs": [],
   "source": [
    "# Get the new shape again\n",
    "rows,cols =X_train.shape\n",
    "column_names = X_train.columns.values.tolist()\n",
    "'''\n",
    "The columns with more than 10% missing values has been removed across the train, validation and the test datasets\n",
    "The remaining missing values will be replaced with median values. Future experiments can be made with computationally \n",
    "extensive imputation techniques like knn imputation etc\n",
    "'''\n",
    "\n",
    "for column in column_names:\n",
    "    X_train[column].fillna(X_train[column].median(),inplace= True)\n",
    "    X_val[column].fillna(X_val[column].median(),inplace= True)\n",
    "    X_test[column].fillna(X_test[column].median(),inplace=True)\n",
    "    # Because of Nan values , columns were of object pandas type\n",
    "    # After median imputation - they become numeric - so we can change it to float type\n",
    "    if X_train[column].dtype =='object':\n",
    "        X_train[column]= X_train[column].astype(float)\n",
    "        X_val[column]= X_val[column].astype(float)\n",
    "        X_test[column]=X_test[column].astype(float)\n"
   ]
  },
  {
   "cell_type": "markdown",
   "metadata": {},
   "source": [
    "### The training set is highly imbalanced. We shall perform oversampling of the minority class using SMOTE\n",
    "#### Let's Check the class distribution across training and validation set before we perform oversampling"
   ]
  },
  {
   "cell_type": "code",
   "execution_count": 23,
   "metadata": {
    "ExecuteTime": {
     "end_time": "2019-05-12T14:53:04.870017Z",
     "start_time": "2019-05-12T14:53:04.022843Z"
    },
    "scrolled": false
   },
   "outputs": [
    {
     "data": {
      "image/png": "[encoded data removed]",
      "text/plain": [
       "<matplotlib.figure.Figure at 0x115c89cf8>"
      ]
     },
     "metadata": {},
     "output_type": "display_data"
    }
   ],
   "source": [
    "# Training and validation set target class distribution\n",
    "fig, (ax1,ax2) =  plt.subplots(nrows=1, ncols=2) \n",
    "fig.set_size_inches(12,6)\n",
    "\n",
    "sns.countplot(x=y_train,ax=ax1)\n",
    "ax1.tick_params(labelsize=10)\n",
    "ax1.set_xlabel('Training Set Class Balance',fontsize=14)\n",
    "ax1.set_ylabel('Count of Class labels',fontsize=14)\n",
    "\n",
    "sns.countplot(x=y_val,ax=ax2)\n",
    "ax2.tick_params(labelsize=10)\n",
    "ax2.set_xlabel('Validation Set Class Balance',fontsize=14)\n",
    "ax2.set_ylabel('Count of Class labels',fontsize=14)\n",
    "plt.savefig('images/Classbalance.png', transparent=False, dpi=80, bbox_inches=\"tight\") "
   ]
  },
  {
   "cell_type": "markdown",
   "metadata": {},
   "source": [
    "<p> The dataset still has a high dimensionality problem as there are 142 columns. In order to perform PCA, We shall first perform standardization of columns across the training , validation and testing set , followed by oversampling using SMOTE and then PCA </p>"
   ]
  },
  {
   "cell_type": "markdown",
   "metadata": {},
   "source": [
    "### Z-Score Normalization of the training, validation and testing set"
   ]
  },
  {
   "cell_type": "code",
   "execution_count": 24,
   "metadata": {
    "ExecuteTime": {
     "end_time": "2019-05-12T14:53:05.227339Z",
     "start_time": "2019-05-12T14:53:04.873037Z"
    }
   },
   "outputs": [
    {
     "data": {
      "text/plain": [
       "StandardScaler(copy=True, with_mean=True, with_std=True)"
      ]
     },
     "execution_count": 24,
     "metadata": {},
     "output_type": "execute_result"
    }
   ],
   "source": [
    "#Initialize the standard scaler \n",
    "stdscale = StandardScaler()\n",
    "\n",
    "#Fit the standardscaler to training set\n",
    "stdscale.fit(X_train)"
   ]
  },
  {
   "cell_type": "code",
   "execution_count": 25,
   "metadata": {
    "ExecuteTime": {
     "end_time": "2019-05-12T14:53:05.235804Z",
     "start_time": "2019-05-12T14:53:05.231010Z"
    }
   },
   "outputs": [],
   "source": [
    "# Get the columns of the training set\n",
    "feat =X_train.columns"
   ]
  },
  {
   "cell_type": "code",
   "execution_count": 26,
   "metadata": {
    "ExecuteTime": {
     "end_time": "2019-05-12T14:53:07.092037Z",
     "start_time": "2019-05-12T14:53:05.239180Z"
    }
   },
   "outputs": [],
   "source": [
    "# Make a copy of the training dataframe\n",
    "scld_data= X_train.copy()\n",
    "\n",
    "# Using the fitted standarscaler transform the training dataframe into normalized dataframe\n",
    "scld_data[feat] = stdscale.transform(X_train[feat])"
   ]
  },
  {
   "cell_type": "code",
   "execution_count": 27,
   "metadata": {
    "ExecuteTime": {
     "end_time": "2019-05-12T14:53:07.676427Z",
     "start_time": "2019-05-12T14:53:07.094374Z"
    }
   },
   "outputs": [],
   "source": [
    "# Make a copy of the validation dataframe\n",
    "scld_val = X_val.copy()\n",
    "\n",
    "# Using the fitted standarscaler transform the validation dataframe into normalized dataframe\n",
    "scld_val[feat] = stdscale.transform(X_val[feat])"
   ]
  },
  {
   "cell_type": "code",
   "execution_count": 28,
   "metadata": {
    "ExecuteTime": {
     "end_time": "2019-05-12T14:53:08.170092Z",
     "start_time": "2019-05-12T14:53:07.679181Z"
    }
   },
   "outputs": [],
   "source": [
    "# Make a copy of the testing dataframe\n",
    "scld_test  = X_test.copy()\n",
    "\n",
    "# Using the fitted standarscaler transform the testing dataframe into normalized dataframe\n",
    "scld_test[feat] = stdscale.transform(X_test[feat])"
   ]
  },
  {
   "cell_type": "markdown",
   "metadata": {},
   "source": [
    "<p>In order to handle the class imbalance in our data set, we oversample the minority instances in the data set which are represented by positively labelled classes. The most common techniques used to oversample the data set is referred to as SMOTE(Synthetic Minority Oversampling Technique).It is a technique that generates new instances of the minority class so as to balance the data set. However, SMOTE does not randomly create duplicates of the minority samples that already exist in the data set. The following equation from depicts the way SMOTE generates synthetic samples. </p>"
   ]
  },
  {
   "cell_type": "markdown",
   "metadata": {},
   "source": [
    "\\begin{equation*}\n",
    "  xnew =xi +λ∗(xzi −xi)\n",
    "\\end{equation*}\n"
   ]
  },
  {
   "cell_type": "markdown",
   "metadata": {},
   "source": [
    "<img src=\"images/smot.png\" />"
   ]
  },
  {
   "cell_type": "markdown",
   "metadata": {},
   "source": [
    "<p>SMOTE takes a minority instance x_i from the data set and for a specified integer value k, it tries to choose k-nearest neighbors that belong the same class as xi using the Euclidean distance between them. An illustration of this process is shown in Fig .In order to create a synthetic instance x_new,it chooses one instance xzirandomly within the k-nearest neighbors , multiplies the feature space of chosen in- stance x_zi with a random number λ and adds it with the minority instance x_i.The value of λ lies in the range [0,1]\n",
    "\n",
    "There are many different variants of SMOTE technique that can be implemented using imbalanced-learn library. Borderline2-SMOTE , one among the Borderline-SMOTE variant has been used to oversample the minority instances in our data set. Regular SMOTE , although does not randomly sample the minority instances , it does not take into consideration the closest majority instance samples when trying to identify the nearest neighbors. This can lead to overlapping of the minority instances by lying closer to the majority instances.</p>"
   ]
  },
  {
   "cell_type": "markdown",
   "metadata": {},
   "source": [
    "<p>Borderline SMOTE 2 generates synthetic samples by applying the SMOTE algorithm, but only to samples that are near the border between different classes.Initially m nearest neighbours for every sample in the minority class are found. Minority samples that are completely surrounded by majority samples, i.e.: all m nearest neighbours belong to the majority class, are considered to be noise and left out of the process. Samples with at most m/2 NNs from the majority class are considered to be safe, and also left out of the process.</p>\n",
    "\n",
    "<p>Samples for which the number of NNs from the majority class is greater than m<2 (but not m) are considered in danger (near the borderline) and used to generate synthetic samples. What differs Borderline SMOTE 2 from Borderline SMOTE 1 is that synthetic samples are created both from nearest minority neighbours as well as nearest majority neighbours. However, synthetic samples created from majority neighbours are created closer to the minority sample then when created from minority neighbours. </p>"
   ]
  },
  {
   "cell_type": "code",
   "execution_count": 29,
   "metadata": {
    "ExecuteTime": {
     "end_time": "2019-05-12T14:53:08.187337Z",
     "start_time": "2019-05-12T14:53:08.172032Z"
    }
   },
   "outputs": [],
   "source": [
    "# The library used for implementing SMOTE is imblearn\n",
    "from imblearn.over_sampling import SMOTE\n",
    "\n",
    "#Import counter from collections to make count of oversampled data\n",
    "from collections import Counter"
   ]
  },
  {
   "cell_type": "code",
   "execution_count": 30,
   "metadata": {
    "ExecuteTime": {
     "end_time": "2019-05-12T14:53:08.197291Z",
     "start_time": "2019-05-12T14:53:08.189878Z"
    }
   },
   "outputs": [],
   "source": [
    "# Initialize the smote borderline2 variant\n",
    "sm = SMOTE(random_state=42,kind='borderline2')"
   ]
  },
  {
   "cell_type": "code",
   "execution_count": 31,
   "metadata": {
    "ExecuteTime": {
     "end_time": "2019-05-12T14:53:21.389700Z",
     "start_time": "2019-05-12T14:53:08.201662Z"
    }
   },
   "outputs": [
    {
     "name": "stdout",
     "output_type": "stream",
     "text": [
      "Resampled dataset shape Counter({0: 43267, 1: 43266})\n"
     ]
    }
   ],
   "source": [
    "# Fitting the initialized smote variant on the scaled training data\n",
    "X_res, y_res = sm.fit_sample(scld_data, y_train)\n",
    "\n",
    "# Print the oversampled training data target variable distribution\n",
    "print('Resampled dataset shape {}'.format(Counter(y_res)))"
   ]
  },
  {
   "cell_type": "markdown",
   "metadata": {},
   "source": [
    "### The train , validation and test after removing missing values and imputation is still high dimensional and has about 140 columns. The cols appear to be highly correalted and since the features are anonymised anyway, we will use pca to handle this dimensionality"
   ]
  },
  {
   "cell_type": "code",
   "execution_count": 32,
   "metadata": {
    "ExecuteTime": {
     "end_time": "2019-05-12T14:53:25.227593Z",
     "start_time": "2019-05-12T14:53:21.393068Z"
    }
   },
   "outputs": [
    {
     "data": {
      "image/png": "[encoded data removed]",
      "text/plain": [
       "<matplotlib.figure.Figure at 0x116923128>"
      ]
     },
     "metadata": {},
     "output_type": "display_data"
    }
   ],
   "source": [
    "#Initialize the PCA to capture components that explain 99% variance of the training data\n",
    "\n",
    "pca = PCA(.99)\n",
    "\n",
    "#Fit the initialized pca on the oversample training data\n",
    "pca.fit(X_res)\n",
    "\n",
    "#calculate variance ratios\n",
    "variance = pca.explained_variance_ratio_ \n",
    "\n",
    "# Get the explained variance for each of the components generated using pca\n",
    "var=np.cumsum(np.round(pca.explained_variance_ratio_, decimals=3)*100)\n",
    "\n",
    "#explained variance of each components chosen by pca\n",
    "fig, ((ax1)) =  plt.subplots(nrows=1, ncols=1) \n",
    "fig.set_size_inches(14,6)\n",
    "ax1.set_title('Principal Component Analysis',fontsize=18)\n",
    "\n",
    "ax1.tick_params(labelsize=14)\n",
    "ax1.set_xlabel('# Number of Principal Components',fontsize=16)\n",
    "ax1.set_ylabel('% Variance Explained',fontsize=16)\n",
    "ax1.set_ylim(30,100.5)\n",
    "plt.style.context('seaborn-darkgrid')\n",
    "ax1.plot(var)\n",
    "label = 'Total number of components explaining 99% variance: {}'.format(len(var))\n",
    "plt.axvline(len(var), linestyle = '--', lw = 2, color = 'black', label = label)\n",
    "ax1.legend(prop={'size': 18},loc='bottom')\n",
    "plt.savefig('images/PCA_Explained Variance.png', transparent=False, dpi=80, bbox_inches=\"tight\")"
   ]
  },
  {
   "cell_type": "code",
   "execution_count": 33,
   "metadata": {
    "ExecuteTime": {
     "end_time": "2019-05-12T14:53:25.456177Z",
     "start_time": "2019-05-12T14:53:25.230079Z"
    }
   },
   "outputs": [
    {
     "name": "stdout",
     "output_type": "stream",
     "text": [
      "The shape of new training dataset is (86533, 84)\n"
     ]
    }
   ],
   "source": [
    "#Let's transform the oversample training data using PCA\n",
    "X_train_pca =pca.transform(X_res)\n",
    "y_train = y_res\n",
    "\n",
    "# Let's check the shape of the training dataset\n",
    "print(\"The shape of new training dataset is {}\".format(X_train_pca.shape))"
   ]
  },
  {
   "cell_type": "code",
   "execution_count": 34,
   "metadata": {
    "ExecuteTime": {
     "end_time": "2019-05-12T14:53:25.545503Z",
     "start_time": "2019-05-12T14:53:25.462034Z"
    }
   },
   "outputs": [
    {
     "name": "stdout",
     "output_type": "stream",
     "text": [
      "The shape of new validation dataset is (16000, 84)\n"
     ]
    }
   ],
   "source": [
    "#Let's transform the validation data using PCA\n",
    "X_val_pca = pca.transform(scld_val)\n",
    "y_val = y_val.values\n",
    "# Let's check the shape of the validation dataset\n",
    "print(\"The shape of new validation dataset is {}\".format(X_val_pca.shape))"
   ]
  },
  {
   "cell_type": "code",
   "execution_count": 35,
   "metadata": {
    "ExecuteTime": {
     "end_time": "2019-05-12T14:53:25.619639Z",
     "start_time": "2019-05-12T14:53:25.552418Z"
    }
   },
   "outputs": [
    {
     "name": "stdout",
     "output_type": "stream",
     "text": [
      "The shape of new testing dataset is (16000, 84)\n"
     ]
    }
   ],
   "source": [
    "#Let's transform the testing data using PCA\n",
    "X_test_pca = pca.transform(scld_test)\n",
    "y_test = y_test.values\n",
    "\n",
    "# Let's check the shape of the testing dataset\n",
    "print(\"The shape of new testing dataset is {}\".format(X_val_pca.shape))"
   ]
  },
  {
   "cell_type": "code",
   "execution_count": 36,
   "metadata": {
    "ExecuteTime": {
     "end_time": "2019-05-12T14:53:25.626632Z",
     "start_time": "2019-05-12T14:53:25.622490Z"
    }
   },
   "outputs": [],
   "source": [
    "# Capture the ratio of target variable across the validation set\n",
    "val_prob_pos =0.0166875\n",
    "val_prob_neg =0.9833125"
   ]
  },
  {
   "cell_type": "markdown",
   "metadata": {},
   "source": [
    "## Helper Functions"
   ]
  },
  {
   "cell_type": "code",
   "execution_count": 50,
   "metadata": {
    "ExecuteTime": {
     "end_time": "2019-05-12T15:46:02.238119Z",
     "start_time": "2019-05-12T15:46:02.223802Z"
    }
   },
   "outputs": [],
   "source": [
    "def classifier_metrics(model,estimator,actual,y_pred,proba):\n",
    "    # Calculating the classification metrics -\n",
    "    # Input - model predicted values and probablilites\n",
    "    class_metrics ={\n",
    "                        'Accuracy' : metrics.accuracy_score(actual, y_pred),\n",
    "                        'Precision' : metrics.precision_score(actual, y_pred),\n",
    "                        'Recall' : metrics.recall_score(actual, y_pred),\n",
    "                        'F1 Score' : metrics.f1_score(actual, y_pred),\n",
    "                        'ROC AUC' : metrics.roc_auc_score(actual, proba),\n",
    "                        'Matthews Correlation Coefficient': matthews_corrcoef(actual,y_pred)    \n",
    "                      }\n",
    "\n",
    "  \n",
    "    df_metrics = pd.DataFrame.from_dict(class_metrics, orient='index')\n",
    "    df_metrics.columns = [model]\n",
    "    \n",
    "    print('\\n'+ model +'  Metrics:')\n",
    "    \n",
    "    print(df_metrics)\n",
    "    # Calculating and displaying confusion matrix for each model\n",
    "    print('\\nConfusion Matrix:')\n",
    "    skplt.metrics.plot_confusion_matrix(actual, y_pred)\n",
    "    return  df_metrics"
   ]
  },
  {
   "cell_type": "markdown",
   "metadata": {},
   "source": [
    "# Model Selection and Evaluation"
   ]
  },
  {
   "cell_type": "code",
   "execution_count": 37,
   "metadata": {
    "ExecuteTime": {
     "end_time": "2019-05-12T14:53:25.633905Z",
     "start_time": "2019-05-12T14:53:25.629726Z"
    }
   },
   "outputs": [],
   "source": [
    "import pickle\n",
    "import os"
   ]
  },
  {
   "cell_type": "markdown",
   "metadata": {},
   "source": [
    "<h1>Random Forest</h1>"
   ]
  },
  {
   "cell_type": "code",
   "execution_count": 89,
   "metadata": {},
   "outputs": [
    {
     "name": "stdout",
     "output_type": "stream",
     "text": [
      "Fitted Logistic regression model has been loaded from pickle file. Run prediction on dataset\n"
     ]
    }
   ],
   "source": [
    "if os.path.isfile('random_forest_finalized_model.sav'):\n",
    "    clf_rf = pickle.load(open('random_forest_finalized_model.sav', 'rb'))\n",
    "    print(\"Fitted random forest model has been loaded from pickle file. Run prediction on dataset\")\n",
    "else:\n",
    "    print('Pickle object not found. Train the model and dump the fitted model using pickle')"
   ]
  },
  {
   "cell_type": "markdown",
   "metadata": {},
   "source": [
    "#### Run the following code cells if the pickle file is not available. If available proceed the code cell containing the predict method. Pickle dump is used to reduce the time constraint of running the gridsearch model tuning and training again"
   ]
  },
  {
   "cell_type": "code",
   "execution_count": 101,
   "metadata": {
    "ExecuteTime": {
     "end_time": "2019-05-12T16:39:01.082279Z",
     "start_time": "2019-05-12T16:39:01.069300Z"
    }
   },
   "outputs": [
    {
     "name": "stdout",
     "output_type": "stream",
     "text": [
      "Parameters currently in use:\n",
      "\n",
      "{'bootstrap': True,\n",
      " 'class_weight': 'balanced',\n",
      " 'criterion': 'gini',\n",
      " 'max_depth': None,\n",
      " 'max_features': 'auto',\n",
      " 'max_leaf_nodes': None,\n",
      " 'min_impurity_decrease': 0.0,\n",
      " 'min_impurity_split': None,\n",
      " 'min_samples_leaf': 1,\n",
      " 'min_samples_split': 2,\n",
      " 'min_weight_fraction_leaf': 0.0,\n",
      " 'n_estimators': 10,\n",
      " 'n_jobs': -1,\n",
      " 'oob_score': True,\n",
      " 'random_state': 123,\n",
      " 'verbose': 0,\n",
      " 'warm_start': False}\n"
     ]
    }
   ],
   "source": [
    "model = 'Random Forest'\n",
    "\n",
    "# Intialize the random forest model with class_weights = balanced, since we have oversampled the training set\n",
    "clf_rf = RandomForestClassifier(n_estimators =10,oob_score = True,\n",
    "                                random_state=123,class_weight=\"balanced\",n_jobs=-1)\n",
    "print('Parameters currently in use:\\n')\n",
    "pprint(clf_rf.get_params())"
   ]
  },
  {
   "cell_type": "code",
   "execution_count": 102,
   "metadata": {
    "ExecuteTime": {
     "end_time": "2019-05-12T16:39:08.626736Z",
     "start_time": "2019-05-12T16:39:02.782727Z"
    }
   },
   "outputs": [
    {
     "data": {
      "text/plain": [
       "RandomForestClassifier(bootstrap=True, class_weight='balanced',\n",
       "            criterion='gini', max_depth=None, max_features='auto',\n",
       "            max_leaf_nodes=None, min_impurity_decrease=0.0,\n",
       "            min_impurity_split=None, min_samples_leaf=1,\n",
       "            min_samples_split=2, min_weight_fraction_leaf=0.0,\n",
       "            n_estimators=10, n_jobs=-1, oob_score=True, random_state=123,\n",
       "            verbose=0, warm_start=False)"
      ]
     },
     "execution_count": 102,
     "metadata": {},
     "output_type": "execute_result"
    }
   ],
   "source": [
    "# Fit baseline random forest model on the training data\n",
    "clf_rf.fit(X_train_pca,y_train)"
   ]
  },
  {
   "cell_type": "code",
   "execution_count": 104,
   "metadata": {
    "ExecuteTime": {
     "end_time": "2019-05-12T16:40:14.428153Z",
     "start_time": "2019-05-12T16:40:13.938166Z"
    }
   },
   "outputs": [
    {
     "name": "stdout",
     "output_type": "stream",
     "text": [
      "\n",
      "RF Baseline  Metrics:\n",
      "                                  RF Baseline\n",
      "Accuracy                             0.984125\n",
      "Precision                            0.517150\n",
      "Recall                               0.734082\n",
      "F1 Score                             0.606811\n",
      "ROC AUC                              0.980146\n",
      "Matthews Correlation Coefficient     0.608549\n",
      "\n",
      "Confusion Matrix:\n"
     ]
    },
    {
     "data": {
      "image/png": "[encoded data removed]",
      "text/plain": [
       "<matplotlib.figure.Figure at 0x1183a2e48>"
      ]
     },
     "metadata": {},
     "output_type": "display_data"
    }
   ],
   "source": [
    "# Let's predict the validation data using the fitted baseline model \n",
    "rf_val_baseline_pred = clf_rf.predict(X_val_pca) \n",
    "\n",
    "# capture the predicted probabilites for the fitted baseline model\n",
    "rf_val_baseline_proba =clf_rf.predict_proba(X_val_pca)[:,1]\n",
    "\n",
    "#Compute the classifier metrics for the baseline model prediction\n",
    "rf_val_baseline_metric = classifier_metrics('RF Baseline',clf_rf, y_val,rf_val_baseline_pred,rf_val_baseline_proba)"
   ]
  },
  {
   "cell_type": "code",
   "execution_count": 76,
   "metadata": {
    "ExecuteTime": {
     "end_time": "2019-05-12T16:06:06.397730Z",
     "start_time": "2019-05-12T16:06:06.387608Z"
    }
   },
   "outputs": [
    {
     "name": "stdout",
     "output_type": "stream",
     "text": [
      "The total misclassification cost for the baseline random foret model is 37330\n"
     ]
    }
   ],
   "source": [
    "#Calculate the baseline model misclassification cost\n",
    "baseline_cost = (183*10) + (71*500)\n",
    "\n",
    "#print the cost value for baseline model\n",
    "print(\"The total misclassification cost for the baseline random foret model is {}\".format(baseline_cost))"
   ]
  },
  {
   "cell_type": "markdown",
   "metadata": {},
   "source": [
    "# Cost Sensitive Learning"
   ]
  },
  {
   "cell_type": "markdown",
   "metadata": {},
   "source": [
    "<p>Cost sensitive classification is a technique allows us to handle the imbalanced data and give better classifier predictions with one that suits the business requirements of data.The challenge in the data set to build a predictive model that minimizes the misclassification cost. This cost function allows the adjustment of the classification threshold towards the point where the desired misclassification cost value is achieved. The total misclassification cost should be minimal in this case.\n",
    "Using the expected value equation we can translate our cost function to decide a threshold for the classifier where the cost is minimal.</p>\n",
    "\n"
   ]
  },
  {
   "cell_type": "markdown",
   "metadata": {},
   "source": [
    "\\begin{equation*}\n",
    "Expected profit = p(p) · [p(Y|p) · b(Y,p) + p(N|p) · c(N,p)]+\n",
    "p(n) · [p(N|n) · b(N,n) + p(Y|n) · c(Y,n)]\n",
    "\\end{equation*}\n"
   ]
  },
  {
   "cell_type": "markdown",
   "metadata": {},
   "source": [
    "<div style=\"display:flex\">\n",
    "     <div style=\"flex:1;padding-right:5px;\">\n",
    "          <img src=\"images/roc.png\">\n",
    "     </div>\n",
    "     <div style=\"flex:1;padding-left:5px;\">\n",
    "          <img src=\"images/ep.png\">\n",
    "     </div>\n",
    "</div>"
   ]
  },
  {
   "cell_type": "markdown",
   "metadata": {},
   "source": [
    "<p>The expected value equation takes into account the cost for true positive, false posi- tives, true negatives and false negatives predictions. The ROC AUC curve gives visualization of the change in roc auc score by representing the true positive rate and false positive rate for each threshold chosen by the classifier.In order to achieve this the probability estimates for the instances should be calculated. From the code listing shown below we can see that the roc curve gives the values of thresholds and the corresponding true positive rate , false positive rate at that threshold. Each threshold can be considered to have a confusion matrix consisting of the true positive, true negative, false positive and the false negative predictions the clas- sifier made on that threshold.</p>\n",
    "\n",
    "<p>Multiplying the false positive rate with total true negative samples gives us the false positives made by the classifier and multiplying the false negative rate with true positives gives us the false negative errors made by the classifier. False negative rate can be calculated from the true positive rates given by the roc curve. The cost of false positive error is 10 and the cost of false negative error is 50.The cost value has been calculated for each threshold and function returns the value of best threshold that has the least misclassification cost value.<p>"
   ]
  },
  {
   "cell_type": "code",
   "execution_count": 121,
   "metadata": {
    "ExecuteTime": {
     "end_time": "2019-05-12T17:04:34.542458Z",
     "start_time": "2019-05-12T17:04:34.488861Z"
    }
   },
   "outputs": [],
   "source": [
    "#Function call to find the classifier decision threshold that gives the lowest misclassification cost\n",
    "def cost_threshold(Model,prop_negative,prob_positive,actual, pred_proba,xlim,location,title):\n",
    "    \n",
    "    # Calculate the false positive rate, true positive rate and thresholds from ROC-Curve\n",
    "    fpr, tpr, thresholds = roc_curve(actual, pred_proba)\n",
    "    \n",
    "    #Calculate the false negative rate\n",
    "    fnr = tpr[-1] - tpr\n",
    "    \n",
    "    #Set the cost value for false positives and false negatives\n",
    "    fp_cost = 10\n",
    "    fn_cost = 500\n",
    "    \n",
    "    #Calcuate the misclassification using the expected value equation\n",
    "    costs = (prop_negative*actual.size)*(fpr * fp_cost) + (prob_positive*actual.size)*(fnr * fn_cost) \n",
    "    \n",
    "    #Find the lowest cost values for all threshold values\n",
    "    best = np.argmin(costs)\n",
    "    \n",
    "    # Find the threshold at which the lowest cost was achieved\n",
    "    best_cost = np.round(costs[best])\n",
    "    best_threshold = np.round(thresholds[best], 4)\n",
    "    \n",
    "    # Define a plot to visualize the change in misclassification cost a function of classifier threshold\n",
    "    fig, axes = plt.subplots(figsize = (16, 8))\n",
    "    \n",
    "    #set to plot the threshold and cost along x and y axis\n",
    "    axes.plot(thresholds, costs, label = 'cost ($)')\n",
    "    \n",
    "    #Generate labels to denote the best threshold and the cost value at that threshold\n",
    "    label = 'best cost: {} at threshold {}'.format(best_cost, best_threshold)\n",
    "    \n",
    "    # Plot a verticle line to identify the point of lowest cost value\n",
    "    plt.axvline(best_threshold, linestyle = '--', lw = 2, color = 'black', label = label)\n",
    "    axes.set_xlim(xlim)\n",
    "    axes.set_xlabel('threshold',fontsize= 28)  \n",
    "    axes.set_ylabel('$')\n",
    "    axes.tick_params(labelsize=24)\n",
    "    \n",
    "    #Set plot title and legend values\n",
    "    axes.set_title('Cost as a Function of Threshold for '+Model,fontsize= 28)\n",
    "    axes.legend(prop={'size': 18},loc=location)\n",
    "    \n",
    "    #Define the richness of plot output for saving to disk\n",
    "    fig.savefig('images/smoteborderline2/'+title, transparent=False, dpi=80, bbox_inches=\"tight\")\n",
    "    return best_cost"
   ]
  },
  {
   "cell_type": "markdown",
   "metadata": {},
   "source": [
    "### Define random forest parameters for hyper parameter tuning"
   ]
  },
  {
   "cell_type": "code",
   "execution_count": 40,
   "metadata": {
    "ExecuteTime": {
     "end_time": "2019-05-12T14:54:43.766589Z",
     "start_time": "2019-05-12T14:54:43.759300Z"
    }
   },
   "outputs": [],
   "source": [
    "# Set the parameters for tuning the random forest model\n",
    "# Number of trees in random forest\n",
    "n_estimators = [50]\n",
    "# Number of features to consider at every split\n",
    "max_features = ['auto','sqrt','log2']\n",
    "# Maximum number of levels in tree\n",
    "max_depth = [15,25,30]\n",
    "# Minimum number of samples required to split a node\n",
    "min_samples_split = [ 8,10]\n",
    "# Minimum number of samples required at each leaf node\n",
    "min_samples_leaf = [8, 9]\n",
    "# Method of selecting samples for training each tree\n",
    "\n",
    "criterion = ['gini', 'entropy']\n",
    "# Create the random grid\n",
    "random_grid = {'n_estimators': n_estimators,\n",
    "               'max_features': max_features,\n",
    "               'max_depth': max_depth,\n",
    "               'min_samples_split': min_samples_split,\n",
    "               'min_samples_leaf': min_samples_leaf,\n",
    "               'criterion': criterion}"
   ]
  },
  {
   "cell_type": "code",
   "execution_count": 41,
   "metadata": {
    "ExecuteTime": {
     "end_time": "2019-05-12T14:55:27.158673Z",
     "start_time": "2019-05-12T14:55:27.154375Z"
    },
    "scrolled": false
   },
   "outputs": [],
   "source": [
    "# Define the random search tuning for random forest model\n",
    "rf_random = RandomizedSearchCV(estimator=clf_rf, param_distributions=random_grid,\n",
    "                              n_iter = 30, scoring='roc_auc', \n",
    "                              cv = 5, verbose=0, random_state=42, n_jobs=-1,\n",
    "                              return_train_score=False)"
   ]
  },
  {
   "cell_type": "code",
   "execution_count": 42,
   "metadata": {
    "ExecuteTime": {
     "end_time": "2019-05-12T15:35:41.801480Z",
     "start_time": "2019-05-12T14:55:33.207091Z"
    }
   },
   "outputs": [
    {
     "data": {
      "text/plain": [
       "RandomizedSearchCV(cv=5, error_score='raise',\n",
       "          estimator=RandomForestClassifier(bootstrap=True, class_weight='balanced',\n",
       "            criterion='gini', max_depth=None, max_features='auto',\n",
       "            max_leaf_nodes=None, min_impurity_decrease=0.0,\n",
       "            min_impurity_split=None, min_samples_leaf=1,\n",
       "            min_samples_split=2, min_weight_fraction_leaf=0.0,\n",
       "            n_estimators=100, n_jobs=-1, oob_score=True, random_state=123,\n",
       "            verbose=0, warm_start=False),\n",
       "          fit_params=None, iid=True, n_iter=30, n_jobs=-1,\n",
       "          param_distributions={'n_estimators': [50], 'max_features': ['sqrt', 'log2'], 'max_depth': [15, 25, 30], 'min_samples_split': [8, 10], 'min_samples_leaf': [8, 9], 'criterion': ['gini', 'entropy']},\n",
       "          pre_dispatch='2*n_jobs', random_state=42, refit=True,\n",
       "          return_train_score=False, scoring='roc_auc', verbose=0)"
      ]
     },
     "execution_count": 42,
     "metadata": {},
     "output_type": "execute_result"
    }
   ],
   "source": [
    "#Fit the model for random search hyperparameter tuning\n",
    "rf_random.fit(X_train_pca,y_train)"
   ]
  },
  {
   "cell_type": "code",
   "execution_count": 58,
   "metadata": {
    "ExecuteTime": {
     "end_time": "2019-05-12T15:50:32.460470Z",
     "start_time": "2019-05-12T15:50:32.451331Z"
    }
   },
   "outputs": [
    {
     "name": "stdout",
     "output_type": "stream",
     "text": [
      "\n",
      "Best Estimator:\n",
      " RandomForestClassifier(bootstrap=True, class_weight='balanced',\n",
      "            criterion='entropy', max_depth=30, max_features='sqrt',\n",
      "            max_leaf_nodes=None, min_impurity_decrease=0.0,\n",
      "            min_impurity_split=None, min_samples_leaf=8,\n",
      "            min_samples_split=8, min_weight_fraction_leaf=0.0,\n",
      "            n_estimators=50, n_jobs=-1, oob_score=True, random_state=123,\n",
      "            verbose=0, warm_start=False)\n"
     ]
    }
   ],
   "source": [
    "# Let's print the best estimator derived from the random search tuning\n",
    "print('\\nBest Estimator:\\n',rf_random.best_estimator_)"
   ]
  },
  {
   "cell_type": "code",
   "execution_count": 115,
   "metadata": {
    "ExecuteTime": {
     "end_time": "2019-05-12T16:58:43.285408Z",
     "start_time": "2019-05-12T16:58:43.280070Z"
    }
   },
   "outputs": [
    {
     "name": "stdout",
     "output_type": "stream",
     "text": [
      "\n",
      "Best Parameters for Random Forest : {'n_estimators': 50, 'min_samples_split': 8, 'min_samples_leaf': 8, 'max_features': 'sqrt', 'max_depth': 30, 'criterion': 'entropy'} \n",
      "\n"
     ]
    }
   ],
   "source": [
    "# Let's print the best parameters derived for random forest through randome search tuning\n",
    "print(\"\\nBest Parameters for Random Forest : {} \\n\".format(rf_random.best_params_))\n",
    "clf_rf = rf_random.best_estimator_"
   ]
  },
  {
   "cell_type": "code",
   "execution_count": 71,
   "metadata": {
    "ExecuteTime": {
     "end_time": "2019-05-12T15:58:10.507662Z",
     "start_time": "2019-05-12T15:58:10.484226Z"
    }
   },
   "outputs": [
    {
     "data": {
      "text/html": [
       "<div>\n",
       "<style scoped>\n",
       "    .dataframe tbody tr th:only-of-type {\n",
       "        vertical-align: middle;\n",
       "    }\n",
       "\n",
       "    .dataframe tbody tr th {\n",
       "        vertical-align: top;\n",
       "    }\n",
       "\n",
       "    .dataframe thead th {\n",
       "        text-align: right;\n",
       "    }\n",
       "</style>\n",
       "<table border=\"1\" class=\"dataframe\">\n",
       "  <thead>\n",
       "    <tr style=\"text-align: right;\">\n",
       "      <th></th>\n",
       "      <th>mean_fit_time</th>\n",
       "      <th>param_n_estimators</th>\n",
       "      <th>param_max_features</th>\n",
       "      <th>param_max_depth</th>\n",
       "      <th>mean_test_score</th>\n",
       "      <th>std_test_score</th>\n",
       "    </tr>\n",
       "  </thead>\n",
       "  <tbody>\n",
       "    <tr>\n",
       "      <th>1</th>\n",
       "      <td>84.465220</td>\n",
       "      <td>50</td>\n",
       "      <td>sqrt</td>\n",
       "      <td>30</td>\n",
       "      <td>0.999441</td>\n",
       "      <td>0.000433</td>\n",
       "    </tr>\n",
       "    <tr>\n",
       "      <th>14</th>\n",
       "      <td>67.631151</td>\n",
       "      <td>50</td>\n",
       "      <td>sqrt</td>\n",
       "      <td>25</td>\n",
       "      <td>0.999441</td>\n",
       "      <td>0.000433</td>\n",
       "    </tr>\n",
       "    <tr>\n",
       "      <th>22</th>\n",
       "      <td>79.717070</td>\n",
       "      <td>50</td>\n",
       "      <td>sqrt</td>\n",
       "      <td>25</td>\n",
       "      <td>0.999441</td>\n",
       "      <td>0.000433</td>\n",
       "    </tr>\n",
       "    <tr>\n",
       "      <th>9</th>\n",
       "      <td>64.017406</td>\n",
       "      <td>50</td>\n",
       "      <td>sqrt</td>\n",
       "      <td>15</td>\n",
       "      <td>0.999439</td>\n",
       "      <td>0.000391</td>\n",
       "    </tr>\n",
       "    <tr>\n",
       "      <th>4</th>\n",
       "      <td>64.447675</td>\n",
       "      <td>50</td>\n",
       "      <td>sqrt</td>\n",
       "      <td>15</td>\n",
       "      <td>0.999439</td>\n",
       "      <td>0.000391</td>\n",
       "    </tr>\n",
       "  </tbody>\n",
       "</table>\n",
       "</div>"
      ],
      "text/plain": [
       "    mean_fit_time param_n_estimators param_max_features param_max_depth  \\\n",
       "1       84.465220                 50               sqrt              30   \n",
       "14      67.631151                 50               sqrt              25   \n",
       "22      79.717070                 50               sqrt              25   \n",
       "9       64.017406                 50               sqrt              15   \n",
       "4       64.447675                 50               sqrt              15   \n",
       "\n",
       "    mean_test_score  std_test_score  \n",
       "1          0.999441        0.000433  \n",
       "14         0.999441        0.000433  \n",
       "22         0.999441        0.000433  \n",
       "9          0.999439        0.000391  \n",
       "4          0.999439        0.000391  "
      ]
     },
     "execution_count": 71,
     "metadata": {},
     "output_type": "execute_result"
    }
   ],
   "source": [
    "# Store the random search cv results in a dataframe\n",
    "rf_random_results = pd.DataFrame(rf_random.cv_results_).sort_values('mean_test_score', ascending = False)\n",
    "\n",
    "#Drop unnecessary columns fromt the cv results dataframe and keep the mean test score on the cross validation set\n",
    "rf_random_results.drop(['std_fit_time', 'mean_score_time', 'std_score_time', 'param_min_samples_split',\n",
    "       'param_min_samples_leaf','params','param_criterion', 'split0_test_score', 'split1_test_score',\n",
    "       'split2_test_score', 'split3_test_score', 'split4_test_score','rank_test_score'],1,inplace=True)\n",
    "\n",
    "# Display the first few lines of the cv results\n",
    "rf_random_results.head()"
   ]
  },
  {
   "cell_type": "code",
   "execution_count": 116,
   "metadata": {
    "ExecuteTime": {
     "end_time": "2019-05-12T16:58:46.654068Z",
     "start_time": "2019-05-12T16:58:46.167835Z"
    }
   },
   "outputs": [
    {
     "name": "stdout",
     "output_type": "stream",
     "text": [
      "\n",
      "RF Validation  Metrics:\n",
      "                                  RF Validation\n",
      "Accuracy                               0.978875\n",
      "Precision                              0.437610\n",
      "Recall                                 0.932584\n",
      "F1 Score                               0.595694\n",
      "ROC AUC                                0.987305\n",
      "Matthews Correlation Coefficient       0.630986\n",
      "\n",
      "Confusion Matrix:\n"
     ]
    },
    {
     "data": {
      "image/png": "[encoded data removed]",
      "text/plain": [
       "<matplotlib.figure.Figure at 0x12bc7a160>"
      ]
     },
     "metadata": {},
     "output_type": "display_data"
    }
   ],
   "source": [
    "# Let's predict the validation data using the tuned model \n",
    "rf_val_pred = clf_rf.predict(X_val_pca) \n",
    "\n",
    "# capture the predicted probabilites for the tuned model\n",
    "rf_val_proba =clf_rf.predict_proba(X_val_pca)[:,1]\n",
    "\n",
    "#Compute the classifier metrics for the tuned model prediction\n",
    "rf_val_metric = classifier_metrics('RF Validation',clf_rf, y_val,rf_val_pred,rf_val_proba)"
   ]
  },
  {
   "cell_type": "code",
   "execution_count": 84,
   "metadata": {
    "ExecuteTime": {
     "end_time": "2019-05-12T16:22:54.687547Z",
     "start_time": "2019-05-12T16:22:54.682292Z"
    }
   },
   "outputs": [
    {
     "name": "stdout",
     "output_type": "stream",
     "text": [
      "The total misclassification cost for the tuned random foret model is 12200\n"
     ]
    }
   ],
   "source": [
    "#Calculate the tuned model misclassification cost\n",
    "tuned_model_cost = (320*10) + (18*500)\n",
    "\n",
    "#print the cost value for tuned rf model on validation without threshold adjustment\n",
    "print(\"The total misclassification cost for the tuned random foret model is {}\".format(tuned_model_cost))"
   ]
  },
  {
   "cell_type": "code",
   "execution_count": 122,
   "metadata": {
    "ExecuteTime": {
     "end_time": "2019-05-12T17:04:48.297651Z",
     "start_time": "2019-05-12T17:04:47.700396Z"
    },
    "scrolled": false
   },
   "outputs": [
    {
     "data": {
      "image/png": "[encoded data removed]",
      "text/plain": [
       "<matplotlib.figure.Figure at 0x1168bd978>"
      ]
     },
     "metadata": {},
     "output_type": "display_data"
    }
   ],
   "source": [
    "# Make a function call to find the lowest cost value for the tuned model and its threshold\n",
    "sns.set_style(\"darkgrid\")\n",
    "val_low_cost = cost_threshold('Random Forest',val_prob_neg,val_prob_pos,y_val,rf_val_proba,[0.0,1.0],'upper right','Rf_val_cost_threshold.pdf')"
   ]
  },
  {
   "cell_type": "code",
   "execution_count": 117,
   "metadata": {
    "ExecuteTime": {
     "end_time": "2019-05-12T16:58:51.522538Z",
     "start_time": "2019-05-12T16:58:50.965648Z"
    }
   },
   "outputs": [
    {
     "name": "stdout",
     "output_type": "stream",
     "text": [
      "\n",
      "RF Val Threshold Adjusted  Metrics:\n",
      "                                  RF Val Threshold Adjusted\n",
      "Accuracy                                           0.962625\n",
      "Precision                                          0.303677\n",
      "Recall                                             0.958801\n",
      "F1 Score                                           0.461261\n",
      "ROC AUC                                            0.987305\n",
      "Matthews Correlation Coefficient                   0.528363\n",
      "\n",
      "Confusion Matrix:\n"
     ]
    },
    {
     "data": {
      "image/png": "[encoded data removed]",
      "text/plain": [
       "<matplotlib.figure.Figure at 0x12c4d7e48>"
      ]
     },
     "metadata": {},
     "output_type": "display_data"
    }
   ],
   "source": [
    "# Let's predict the validation data using the threshold giving lowest cost\n",
    "rf_val_pred = (clf_rf.predict_proba(X_val_pca)[:,1] > 0.3334)\n",
    "\n",
    "# capture the predicted probabilites for the tuned model\n",
    "rf_val_proba =clf_rf.predict_proba(X_val_pca)[:,1]\n",
    "\n",
    "#Compute the adjusted classifier metrics for the tuned model prediction\n",
    "adjusted_rf_val_metric = classifier_metrics('RF Val Threshold Adjusted',clf_rf, y_val,rf_val_pred,rf_val_proba)"
   ]
  },
  {
   "cell_type": "markdown",
   "metadata": {},
   "source": [
    "### We can see that the threshold of 0.3334 gave a misclassification cost of 11370 on the validation set\n",
    "\n",
    "#### Let's test the final tuned model with lowest cost possible achieved on the test data with that threshold "
   ]
  },
  {
   "cell_type": "code",
   "execution_count": 118,
   "metadata": {
    "ExecuteTime": {
     "end_time": "2019-05-12T16:58:55.119055Z",
     "start_time": "2019-05-12T16:58:54.631754Z"
    }
   },
   "outputs": [
    {
     "name": "stdout",
     "output_type": "stream",
     "text": [
      "\n",
      "RF Test  Metrics:\n",
      "                                   RF Test\n",
      "Accuracy                          0.980625\n",
      "Precision                         0.551343\n",
      "Recall                            0.930667\n",
      "F1 Score                          0.692460\n",
      "ROC AUC                           0.992790\n",
      "Matthews Correlation Coefficient  0.708203\n",
      "\n",
      "Confusion Matrix:\n"
     ]
    },
    {
     "data": {
      "image/png": "[encoded data removed]",
      "text/plain": [
       "<matplotlib.figure.Figure at 0x11690b7b8>"
      ]
     },
     "metadata": {},
     "output_type": "display_data"
    }
   ],
   "source": [
    "# Let's predict the test data using the tuned model \n",
    "rf_pred = clf_rf.predict(X_test_pca)\n",
    "\n",
    "# Let's predict the predicted probabilities on the test data using the tuned model\n",
    "rf_proba =clf_rf.predict_proba(X_test_pca)[:,1]\n",
    "\n",
    "##Compute the classifier metrics on the test data for the tuned model prediction\n",
    "rf_test_metric = classifier_metrics('RF Test',clf_rf, y_test,rf_pred,rf_proba)"
   ]
  },
  {
   "cell_type": "code",
   "execution_count": 92,
   "metadata": {
    "ExecuteTime": {
     "end_time": "2019-05-12T16:32:29.086510Z",
     "start_time": "2019-05-12T16:32:29.079573Z"
    }
   },
   "outputs": [
    {
     "name": "stdout",
     "output_type": "stream",
     "text": [
      "The total misclassification cost for the tuned random foret model on test data is 15840\n"
     ]
    }
   ],
   "source": [
    "#Calculate the tuned model misclassification cost\n",
    "test_model_cost = (284*10) + (26*500)\n",
    "\n",
    "#print the cost value for tuned rf model on test data without threshold adjustment\n",
    "print(\"The total misclassification cost for the tuned random foret model on test data is {}\".format(test_model_cost))"
   ]
  },
  {
   "cell_type": "code",
   "execution_count": 119,
   "metadata": {
    "ExecuteTime": {
     "end_time": "2019-05-12T16:59:00.374602Z",
     "start_time": "2019-05-12T16:58:59.836726Z"
    }
   },
   "outputs": [
    {
     "name": "stdout",
     "output_type": "stream",
     "text": [
      "\n",
      "RF Test Threshold Adjusted  Metrics:\n",
      "                                  RF Test Threshold Adjusted\n",
      "Accuracy                                            0.966125\n",
      "Precision                                           0.406912\n",
      "Recall                                              0.973333\n",
      "F1 Score                                            0.573899\n",
      "ROC AUC                                             0.992790\n",
      "Matthews Correlation Coefficient                    0.617725\n",
      "\n",
      "Confusion Matrix:\n"
     ]
    },
    {
     "data": {
      "image/png": "[encoded data removed]",
      "text/plain": [
       "<matplotlib.figure.Figure at 0x11676d940>"
      ]
     },
     "metadata": {},
     "output_type": "display_data"
    }
   ],
   "source": [
    "# Let's predict the test data using the tuned model and threshold that gave low cost value on validation set\n",
    "rf_pred = (clf_rf.predict_proba(X_test_pca)[:,1] > 0.3334)\n",
    "\n",
    "# Let's predict the predicted probabilities on the test data using the tuned model\n",
    "rf_proba =clf_rf.predict_proba(X_test_pca)[:,1]\n",
    "\n",
    "##Compute the classifier metrics on the test data for the tuned model prediction with threshold adjustment\n",
    "adjusted_rf_test_metric = classifier_metrics('RF Test Threshold Adjusted',clf_rf, y_test,rf_pred,rf_proba)"
   ]
  },
  {
   "cell_type": "code",
   "execution_count": 96,
   "metadata": {
    "ExecuteTime": {
     "end_time": "2019-05-12T16:34:39.837238Z",
     "start_time": "2019-05-12T16:34:39.831850Z"
    }
   },
   "outputs": [
    {
     "name": "stdout",
     "output_type": "stream",
     "text": [
      "The total misclassification cost for tuned rf model on test data after threshold adjustment is 10320\n"
     ]
    }
   ],
   "source": [
    "#Calculate the tuned model misclassification cost\n",
    "adjusted_test_cost = (532*10) + (10*500)\n",
    "\n",
    "#print the cost value for tuned rf model on test data without threshold adjustment\n",
    "print(\"The total misclassification cost for tuned rf model on test data after threshold adjustment is {}\".format(adjusted_test_cost))\n"
   ]
  },
  {
   "cell_type": "code",
   "execution_count": 97,
   "metadata": {
    "ExecuteTime": {
     "end_time": "2019-05-12T16:35:16.074768Z",
     "start_time": "2019-05-12T16:35:16.042224Z"
    }
   },
   "outputs": [],
   "source": [
    "#Uncomment if changes have been made to the model fit and dump the fitted model into an picklet object\n",
    "rf_filename = 'random_forest_finalized_model.sav'\n",
    "pickle.dump(clf_rf, open(rf_filename, 'wb'))"
   ]
  },
  {
   "cell_type": "code",
   "execution_count": 144,
   "metadata": {
    "ExecuteTime": {
     "end_time": "2019-05-12T17:12:41.003218Z",
     "start_time": "2019-05-12T17:12:40.987363Z"
    }
   },
   "outputs": [
    {
     "data": {
      "text/html": [
       "<div>\n",
       "<style scoped>\n",
       "    .dataframe tbody tr th:only-of-type {\n",
       "        vertical-align: middle;\n",
       "    }\n",
       "\n",
       "    .dataframe tbody tr th {\n",
       "        vertical-align: top;\n",
       "    }\n",
       "\n",
       "    .dataframe thead th {\n",
       "        text-align: right;\n",
       "    }\n",
       "</style>\n",
       "<table border=\"1\" class=\"dataframe\">\n",
       "  <thead>\n",
       "    <tr style=\"text-align: right;\">\n",
       "      <th></th>\n",
       "      <th>Accuracy</th>\n",
       "      <th>Precision</th>\n",
       "      <th>Recall</th>\n",
       "      <th>F1 Score</th>\n",
       "      <th>ROC AUC</th>\n",
       "      <th>Matthews Correlation Coefficient</th>\n",
       "    </tr>\n",
       "  </thead>\n",
       "  <tbody>\n",
       "    <tr>\n",
       "      <th>RF Baseline</th>\n",
       "      <td>0.984125</td>\n",
       "      <td>0.517150</td>\n",
       "      <td>0.734082</td>\n",
       "      <td>0.606811</td>\n",
       "      <td>0.980146</td>\n",
       "      <td>0.608549</td>\n",
       "    </tr>\n",
       "    <tr>\n",
       "      <th>RF Validation</th>\n",
       "      <td>0.978875</td>\n",
       "      <td>0.437610</td>\n",
       "      <td>0.932584</td>\n",
       "      <td>0.595694</td>\n",
       "      <td>0.987305</td>\n",
       "      <td>0.630986</td>\n",
       "    </tr>\n",
       "    <tr>\n",
       "      <th>RF Val Threshold Adjusted</th>\n",
       "      <td>0.962625</td>\n",
       "      <td>0.303677</td>\n",
       "      <td>0.958801</td>\n",
       "      <td>0.461261</td>\n",
       "      <td>0.987305</td>\n",
       "      <td>0.528363</td>\n",
       "    </tr>\n",
       "    <tr>\n",
       "      <th>RF Test</th>\n",
       "      <td>0.980625</td>\n",
       "      <td>0.551343</td>\n",
       "      <td>0.930667</td>\n",
       "      <td>0.692460</td>\n",
       "      <td>0.992790</td>\n",
       "      <td>0.708203</td>\n",
       "    </tr>\n",
       "    <tr>\n",
       "      <th>RF Test Threshold Adjusted</th>\n",
       "      <td>0.966125</td>\n",
       "      <td>0.406912</td>\n",
       "      <td>0.973333</td>\n",
       "      <td>0.573899</td>\n",
       "      <td>0.992790</td>\n",
       "      <td>0.617725</td>\n",
       "    </tr>\n",
       "  </tbody>\n",
       "</table>\n",
       "</div>"
      ],
      "text/plain": [
       "                            Accuracy  Precision    Recall  F1 Score   ROC AUC  \\\n",
       "RF Baseline                 0.984125   0.517150  0.734082  0.606811  0.980146   \n",
       "RF Validation               0.978875   0.437610  0.932584  0.595694  0.987305   \n",
       "RF Val Threshold Adjusted   0.962625   0.303677  0.958801  0.461261  0.987305   \n",
       "RF Test                     0.980625   0.551343  0.930667  0.692460  0.992790   \n",
       "RF Test Threshold Adjusted  0.966125   0.406912  0.973333  0.573899  0.992790   \n",
       "\n",
       "                            Matthews Correlation Coefficient  \n",
       "RF Baseline                                         0.608549  \n",
       "RF Validation                                       0.630986  \n",
       "RF Val Threshold Adjusted                           0.528363  \n",
       "RF Test                                             0.708203  \n",
       "RF Test Threshold Adjusted                          0.617725  "
      ]
     },
     "execution_count": 144,
     "metadata": {},
     "output_type": "execute_result"
    }
   ],
   "source": [
    "# Concatinating the metrics for all the random forest model variants\n",
    "rf_metrics = pd.concat([rf_val_baseline_metric,rf_val_metric,adjusted_rf_val_metric,\n",
    "                        rf_test_metric,adjusted_rf_test_metric], axis=1)\n",
    "rf_metrics = rf_metrics.T\n",
    "rf_metrics"
   ]
  },
  {
   "cell_type": "code",
   "execution_count": 146,
   "metadata": {
    "ExecuteTime": {
     "end_time": "2019-05-12T17:14:50.060824Z",
     "start_time": "2019-05-12T17:14:50.049603Z"
    }
   },
   "outputs": [
    {
     "data": {
      "text/html": [
       "<div>\n",
       "<style scoped>\n",
       "    .dataframe tbody tr th:only-of-type {\n",
       "        vertical-align: middle;\n",
       "    }\n",
       "\n",
       "    .dataframe tbody tr th {\n",
       "        vertical-align: top;\n",
       "    }\n",
       "\n",
       "    .dataframe thead th {\n",
       "        text-align: right;\n",
       "    }\n",
       "</style>\n",
       "<table border=\"1\" class=\"dataframe\">\n",
       "  <thead>\n",
       "    <tr style=\"text-align: right;\">\n",
       "      <th></th>\n",
       "      <th>Total Misclassification Cost</th>\n",
       "    </tr>\n",
       "  </thead>\n",
       "  <tbody>\n",
       "    <tr>\n",
       "      <th>RF Baseline</th>\n",
       "      <td>37330.0</td>\n",
       "    </tr>\n",
       "    <tr>\n",
       "      <th>RF Validation</th>\n",
       "      <td>12200.0</td>\n",
       "    </tr>\n",
       "    <tr>\n",
       "      <th>RF Val Threshold Adjusted</th>\n",
       "      <td>11370.0</td>\n",
       "    </tr>\n",
       "    <tr>\n",
       "      <th>RF Test</th>\n",
       "      <td>15840.0</td>\n",
       "    </tr>\n",
       "    <tr>\n",
       "      <th>RF Test Threshold Adjusted</th>\n",
       "      <td>10320.0</td>\n",
       "    </tr>\n",
       "  </tbody>\n",
       "</table>\n",
       "</div>"
      ],
      "text/plain": [
       "                            Total Misclassification Cost\n",
       "RF Baseline                                      37330.0\n",
       "RF Validation                                    12200.0\n",
       "RF Val Threshold Adjusted                        11370.0\n",
       "RF Test                                          15840.0\n",
       "RF Test Threshold Adjusted                       10320.0"
      ]
     },
     "execution_count": 146,
     "metadata": {},
     "output_type": "execute_result"
    }
   ],
   "source": [
    "# Creating a dataframe with total misclassification costs of random forest model variants\n",
    "total_cost = pd.DataFrame([baseline_cost,tuned_model_cost,val_low_cost,test_model_cost,adjusted_test_cost],\n",
    "                          columns=[\"Total Misclassification Cost\"],\n",
    "                          index=['RF Baseline','RF Validation','RF Val Threshold Adjusted',\n",
    "                                 'RF Test','RF Test Threshold Adjusted'])\n",
    "total_cost"
   ]
  },
  {
   "cell_type": "code",
   "execution_count": 149,
   "metadata": {
    "ExecuteTime": {
     "end_time": "2019-05-12T17:17:04.512009Z",
     "start_time": "2019-05-12T17:17:04.496508Z"
    }
   },
   "outputs": [
    {
     "data": {
      "text/html": [
       "<div>\n",
       "<style scoped>\n",
       "    .dataframe tbody tr th:only-of-type {\n",
       "        vertical-align: middle;\n",
       "    }\n",
       "\n",
       "    .dataframe tbody tr th {\n",
       "        vertical-align: top;\n",
       "    }\n",
       "\n",
       "    .dataframe thead th {\n",
       "        text-align: right;\n",
       "    }\n",
       "</style>\n",
       "<table border=\"1\" class=\"dataframe\">\n",
       "  <thead>\n",
       "    <tr style=\"text-align: right;\">\n",
       "      <th></th>\n",
       "      <th>Accuracy</th>\n",
       "      <th>Precision</th>\n",
       "      <th>Recall</th>\n",
       "      <th>F1 Score</th>\n",
       "      <th>ROC AUC</th>\n",
       "      <th>Matthews Correlation Coefficient</th>\n",
       "      <th>Total Misclassification Cost</th>\n",
       "    </tr>\n",
       "  </thead>\n",
       "  <tbody>\n",
       "    <tr>\n",
       "      <th>RF Baseline</th>\n",
       "      <td>0.984125</td>\n",
       "      <td>0.517150</td>\n",
       "      <td>0.734082</td>\n",
       "      <td>0.606811</td>\n",
       "      <td>0.980146</td>\n",
       "      <td>0.608549</td>\n",
       "      <td>37330.0</td>\n",
       "    </tr>\n",
       "    <tr>\n",
       "      <th>RF Validation</th>\n",
       "      <td>0.978875</td>\n",
       "      <td>0.437610</td>\n",
       "      <td>0.932584</td>\n",
       "      <td>0.595694</td>\n",
       "      <td>0.987305</td>\n",
       "      <td>0.630986</td>\n",
       "      <td>12200.0</td>\n",
       "    </tr>\n",
       "    <tr>\n",
       "      <th>RF Val Threshold Adjusted</th>\n",
       "      <td>0.962625</td>\n",
       "      <td>0.303677</td>\n",
       "      <td>0.958801</td>\n",
       "      <td>0.461261</td>\n",
       "      <td>0.987305</td>\n",
       "      <td>0.528363</td>\n",
       "      <td>11370.0</td>\n",
       "    </tr>\n",
       "    <tr>\n",
       "      <th>RF Test</th>\n",
       "      <td>0.980625</td>\n",
       "      <td>0.551343</td>\n",
       "      <td>0.930667</td>\n",
       "      <td>0.692460</td>\n",
       "      <td>0.992790</td>\n",
       "      <td>0.708203</td>\n",
       "      <td>15840.0</td>\n",
       "    </tr>\n",
       "    <tr>\n",
       "      <th>RF Test Threshold Adjusted</th>\n",
       "      <td>0.966125</td>\n",
       "      <td>0.406912</td>\n",
       "      <td>0.973333</td>\n",
       "      <td>0.573899</td>\n",
       "      <td>0.992790</td>\n",
       "      <td>0.617725</td>\n",
       "      <td>10320.0</td>\n",
       "    </tr>\n",
       "  </tbody>\n",
       "</table>\n",
       "</div>"
      ],
      "text/plain": [
       "                            Accuracy  Precision    Recall  F1 Score   ROC AUC  \\\n",
       "RF Baseline                 0.984125   0.517150  0.734082  0.606811  0.980146   \n",
       "RF Validation               0.978875   0.437610  0.932584  0.595694  0.987305   \n",
       "RF Val Threshold Adjusted   0.962625   0.303677  0.958801  0.461261  0.987305   \n",
       "RF Test                     0.980625   0.551343  0.930667  0.692460  0.992790   \n",
       "RF Test Threshold Adjusted  0.966125   0.406912  0.973333  0.573899  0.992790   \n",
       "\n",
       "                            Matthews Correlation Coefficient  \\\n",
       "RF Baseline                                         0.608549   \n",
       "RF Validation                                       0.630986   \n",
       "RF Val Threshold Adjusted                           0.528363   \n",
       "RF Test                                             0.708203   \n",
       "RF Test Threshold Adjusted                          0.617725   \n",
       "\n",
       "                            Total Misclassification Cost  \n",
       "RF Baseline                                      37330.0  \n",
       "RF Validation                                    12200.0  \n",
       "RF Val Threshold Adjusted                        11370.0  \n",
       "RF Test                                          15840.0  \n",
       "RF Test Threshold Adjusted                       10320.0  "
      ]
     },
     "execution_count": 149,
     "metadata": {},
     "output_type": "execute_result"
    }
   ],
   "source": [
    "#Merging the classification metrics and misclassification costs of all random forest model variants\n",
    "Total_metrics = pd.merge(rf_metrics, total_cost, how='outer', left_index=True, right_index=True)\n",
    "\n",
    "Total_metrics"
   ]
  }
 ],
 "metadata": {
  "kernelspec": {
   "display_name": "Python 3",
   "language": "python",
   "name": "python3"
  },
  "language_info": {
   "codemirror_mode": {
    "name": "ipython",
    "version": 3
   },
   "file_extension": ".py",
   "mimetype": "text/x-python",
   "name": "python",
   "nbconvert_exporter": "python",
   "pygments_lexer": "ipython3",
   "version": "3.6.1"
  },
  "latex_envs": {
   "LaTeX_envs_menu_present": true,
   "autoclose": true,
   "autocomplete": true,
   "bibliofile": "biblio.bib",
   "cite_by": "apalike",
   "current_citInitial": 1,
   "eqLabelWithNumbers": true,
   "eqNumInitial": 1,
   "hotkeys": {
    "equation": "Ctrl-E",
    "itemize": "Ctrl-I"
   },
   "labels_anchors": false,
   "latex_user_defs": false,
   "report_style_numbering": false,
   "user_envs_cfg": false
  }
 },
 "nbformat": 4,
 "nbformat_minor": 1
}
